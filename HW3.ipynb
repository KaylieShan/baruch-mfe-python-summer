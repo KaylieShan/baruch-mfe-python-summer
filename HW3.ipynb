{
 "cells": [
  {
   "cell_type": "markdown",
   "metadata": {},
   "source": [
    "# HW3\n",
    "\n",
    "## 1 \n",
    "Read the code below and rewrite it using only numpy functions (without for loop, if-else statements). Benchmark your implementation. How much is it faster than the naive python implementation? (hint: use np.isin)\n",
    "\n",
    "def func1(names, db):\n",
    "    idx = []\n",
    "    for i in names:\n",
    "        if i in db:\n",
    "            idx.append(db.index(i))\n",
    "    return idx"
   ]
  },
  {
   "cell_type": "code",
   "execution_count": 4,
   "metadata": {},
   "outputs": [],
   "source": [
    "def func1(names, db):\n",
    "    idx = []\n",
    "    for i in names:\n",
    "        if i in db:\n",
    "            idx.append(db.index(i))\n",
    "    return idx\n",
    "\n",
    "import numpy as np\n",
    "\n",
    "def func2(names, db):\n",
    "    return np.arange(len(db))[np.isin(db,names)]"
   ]
  },
  {
   "cell_type": "code",
   "execution_count": 5,
   "metadata": {},
   "outputs": [],
   "source": [
    "names = range(1000)\n",
    "db = range(99999)"
   ]
  },
  {
   "cell_type": "code",
   "execution_count": 6,
   "metadata": {},
   "outputs": [
    {
     "name": "stdout",
     "output_type": "stream",
     "text": [
      "CPU times: user 524 µs, sys: 45 µs, total: 569 µs\n",
      "Wall time: 601 µs\n"
     ]
    }
   ],
   "source": [
    "%time result1 = func1(names,db)"
   ]
  },
  {
   "cell_type": "code",
   "execution_count": 7,
   "metadata": {},
   "outputs": [
    {
     "name": "stdout",
     "output_type": "stream",
     "text": [
      "CPU times: user 19.6 ms, sys: 5.94 ms, total: 25.6 ms\n",
      "Wall time: 27.5 ms\n"
     ]
    }
   ],
   "source": [
    "%time result2 = func2(names,db)"
   ]
  },
  {
   "cell_type": "markdown",
   "metadata": {},
   "source": [
    "## 2\n",
    "Use only numpy functions (without for loop, if-else statements) to find the largest 3 distances between points if either points is inside the circle of raidus r0. Then return these points. E.g."
   ]
  },
  {
   "cell_type": "code",
   "execution_count": 74,
   "metadata": {},
   "outputs": [
    {
     "name": "stdout",
     "output_type": "stream",
     "text": [
      "[[0.00000000e+00 7.39961000e-01 4.58000000e-04]\n",
      " [7.39961000e-01 6.93889390e-18 7.09105000e-01]\n",
      " [4.58000000e-04 7.09105000e-01 2.22044605e-16]]\n"
     ]
    }
   ],
   "source": [
    "def search_pairs(A, r):\n",
    "    #calculate the distance of each point from (0,0)\n",
    "    dis_from_0 = np.sqrt(np.square(A[:,0])+np.square(A[:,1]))\n",
    "    #select the points that are inside the circle of radius r\n",
    "    mask = np.where(dis_from_0 < r,True,False)\n",
    "    A_new = A[mask]\n",
    "    #calculate the distance of each pair of points\n",
    "    B = A_new.copy().transpose()\n",
    "    A_mul_BT = np.dot(A_new,B)\n",
    "    A_square = np.square(A_new[:,0])+np.square(A_new[:,1])\n",
    "    A_square_reshaped = np.tile(A_square.transpose(), (1, A_mul_BT.shape[1])).reshape(3,3)\n",
    "    A_square_reshaped_T = A_square_reshaped.transpose()\n",
    "    distance_each_pair = A_square_reshaped + A_square_reshaped_T - 2*A_mul_BT \n",
    "    return distance_each_pair\n",
    "\n",
    "coordinates = np.array(\n",
    "[[0.968, 0.313],\n",
    " [0.692, 0.876],\n",
    " [0.895, 0.085],\n",
    " [0.039, 0.17 ],\n",
    " [0.878, 0.098]]\n",
    ")\n",
    "cirle_r0 = 0.9\n",
    "print(search_pairs(coordinates, cirle_r0))"
   ]
  }
 ],
 "metadata": {
  "kernelspec": {
   "display_name": "Python 3",
   "language": "python",
   "name": "python3"
  },
  "language_info": {
   "codemirror_mode": {
    "name": "ipython",
    "version": 3
   },
   "file_extension": ".py",
   "mimetype": "text/x-python",
   "name": "python",
   "nbconvert_exporter": "python",
   "pygments_lexer": "ipython3",
   "version": "3.7.7"
  },
  "toc": {
   "base_numbering": 1,
   "nav_menu": {},
   "number_sections": true,
   "sideBar": true,
   "skip_h1_title": false,
   "title_cell": "Table of Contents",
   "title_sidebar": "Contents",
   "toc_cell": false,
   "toc_position": {},
   "toc_section_display": true,
   "toc_window_display": false
  }
 },
 "nbformat": 4,
 "nbformat_minor": 4
}
