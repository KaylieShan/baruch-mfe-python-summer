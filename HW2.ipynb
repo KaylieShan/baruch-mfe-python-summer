{
 "cells": [
  {
   "cell_type": "markdown",
   "metadata": {},
   "source": [
    "# Homework2\n",
    "\n",
    "## 1 Merge Sorted Stream\n",
    "Write a generator function that takes two sorted streams (generators), and return a generator that can produce a merged stream in sorted order.\n",
    "Bonus point: can you make it generic such that it can merge any number of streams?"
   ]
  },
  {
   "cell_type": "code",
   "execution_count": 40,
   "metadata": {},
   "outputs": [],
   "source": [
    "def merge_sorted_stream(stream1, stream2):\n",
    "    i = 0\n",
    "    j = 0\n",
    "    while (len(stream1)-i) and (len(stream2)-j):\n",
    "        if stream1[i] < stream2[j]:\n",
    "            yield stream1[i]\n",
    "            i += 1\n",
    "        else:\n",
    "            yield stream2[j]\n",
    "            j += 1\n",
    "    for each in stream1[i:]:\n",
    "        yield each\n",
    "    for each in stream2[j:]:\n",
    "        yield each "
   ]
  },
  {
   "cell_type": "code",
   "execution_count": 43,
   "metadata": {},
   "outputs": [
    {
     "name": "stdout",
     "output_type": "stream",
     "text": [
      "0\n",
      "1\n",
      "2\n",
      "3\n",
      "4\n",
      "5\n",
      "6\n",
      "7\n",
      "8\n",
      "9\n",
      "11\n",
      "13\n",
      "15\n",
      "17\n",
      "19\n"
     ]
    }
   ],
   "source": [
    "stream1 = range(0, 10, 2)\n",
    "stream2 = range(1, 20, 2)\n",
    "\n",
    "for x in merge_sorted_stream(stream1, stream2):\n",
    "    print(x)"
   ]
  },
  {
   "cell_type": "markdown",
   "metadata": {},
   "source": [
    "## 2 Tree traversal\n",
    "Unlike linear data structures (Array, Linked List, Queues, Stacks, etc) which have only one logical way to traverse them, trees can be traversed in different ways. Following are the generally used ways for traversing trees.\n",
    "      1\n",
    "    /  \\ \n",
    "   2    3\n",
    "  / \\\n",
    " 4   5\n",
    "Depth First Traversals:\n",
    "(a) Inorder (Left, Root, Right) : 4 2 5 1 3\n",
    "(b) Preorder (Root, Left, Right) : 1 2 4 5 3\n",
    "(c) Postorder (Left, Right, Root) : 4 5 2 3 1\n",
    "Define a Tree class with a method that can walk through the tree in different orders. Hint: use generator will make your life a lot easier."
   ]
  },
  {
   "cell_type": "code",
   "execution_count": 3,
   "metadata": {},
   "outputs": [],
   "source": [
    "class TreeNode:\n",
    "    \n",
    "    # initialization\n",
    "    def __init__(self,val,left=None,right=None):\n",
    "        self.val = val\n",
    "        self.left = left\n",
    "        self.right = right\n",
    "    \n",
    "    # inorder(left,root,right)\n",
    "    def in_order(self):\n",
    "        if self.left != None:\n",
    "            yield from self.left.in_order()\n",
    "        yield(self.val)\n",
    "        if self.right != None:\n",
    "            yield from self.right.in_order()\n",
    "    \n",
    "    # preorder(root,left,right)\n",
    "    def pre_order(self):\n",
    "        yield(self.val)\n",
    "        if self.left != None:\n",
    "            yield from self.left.pre_order()\n",
    "        if self.right != None:\n",
    "            yield from self.right.pre_order()\n",
    "            \n",
    "    # postorder(left,right,root)\n",
    "    def post_order(self):\n",
    "        if self.left != None:\n",
    "            yield from self.left.post_order()\n",
    "        if self.right != None:\n",
    "            yield from self.right.post_order()\n",
    "        yield(self.val)   \n",
    "   "
   ]
  },
  {
   "cell_type": "code",
   "execution_count": 4,
   "metadata": {},
   "outputs": [
    {
     "name": "stdout",
     "output_type": "stream",
     "text": [
      "4 -> 2 -> 5 -> 1 -> 3\n",
      "1 -> 2 -> 4 -> 5 -> 3\n",
      "4 -> 5 -> 2 -> 3 -> 1\n"
     ]
    }
   ],
   "source": [
    "root = TreeNode(1)\n",
    "root.left = TreeNode(2)\n",
    "root.right = TreeNode(3)\n",
    "root.left.left = TreeNode(4)\n",
    "root.left.right = TreeNode(5)\n",
    "\n",
    "print(' -> '.join(str(item) for item in root.in_order()))\n",
    "print(' -> '.join(str(item) for item in root.pre_order()))\n",
    "print(' -> '.join(str(item) for item in root.post_order()))"
   ]
  },
  {
   "cell_type": "markdown",
   "metadata": {},
   "source": [
    "## 3 Implement a timer\n",
    "Implement a timer that can print the execution time of your code. Try to implement it both as a decorator and as a context manager to compare the implementations. Can you implement it using one single class?"
   ]
  },
  {
   "cell_type": "code",
   "execution_count": 110,
   "metadata": {},
   "outputs": [
    {
     "name": "stdout",
     "output_type": "stream",
     "text": [
      "--- 3.0049850940704346 seconds ---\n"
     ]
    }
   ],
   "source": [
    "import time\n",
    "\n",
    "# the decorator\n",
    "def timer(func):\n",
    "    def inner(x):\n",
    "        start_time = time.time()\n",
    "        func(x)\n",
    "        print(f\"--- {time.time() - start_time} seconds ---\")\n",
    "    return inner\n",
    "\n",
    "@timer\n",
    "def sleep(secs):\n",
    "    time.sleep(secs)\n",
    "\n",
    "result = sleep(3)"
   ]
  }
 ],
 "metadata": {
  "kernelspec": {
   "display_name": "Python 3",
   "language": "python",
   "name": "python3"
  },
  "language_info": {
   "codemirror_mode": {
    "name": "ipython",
    "version": 3
   },
   "file_extension": ".py",
   "mimetype": "text/x-python",
   "name": "python",
   "nbconvert_exporter": "python",
   "pygments_lexer": "ipython3",
   "version": "3.7.7"
  },
  "toc": {
   "base_numbering": 1,
   "nav_menu": {},
   "number_sections": true,
   "sideBar": true,
   "skip_h1_title": false,
   "title_cell": "Table of Contents",
   "title_sidebar": "Contents",
   "toc_cell": false,
   "toc_position": {},
   "toc_section_display": true,
   "toc_window_display": false
  }
 },
 "nbformat": 4,
 "nbformat_minor": 4
}
