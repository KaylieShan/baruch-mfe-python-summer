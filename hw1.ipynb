{
 "cells": [
  {
   "cell_type": "markdown",
   "metadata": {},
   "source": [
    "# HW1\n",
    "\n",
    "## 1.2 Write a Jupyter Magic\n",
    "Write a Jupyter Magic that count the number of words in the cell. Try to make it both a line and cell magic. Demonstrate its usage with examples."
   ]
  },
  {
   "cell_type": "code",
   "execution_count": 2,
   "metadata": {},
   "outputs": [],
   "source": [
    "from IPython.core.magic import (register_line_cell_magic)"
   ]
  },
  {
   "cell_type": "code",
   "execution_count": 3,
   "metadata": {},
   "outputs": [],
   "source": [
    "@register_line_cell_magic\n",
    "def countwords(line, cell=None):\n",
    "    if cell is None:\n",
    "        return len(line.split())\n",
    "    else:\n",
    "        return len((line + cell).split())"
   ]
  },
  {
   "cell_type": "code",
   "execution_count": 4,
   "metadata": {},
   "outputs": [
    {
     "data": {
      "text/plain": [
       "5"
      ]
     },
     "execution_count": 4,
     "metadata": {},
     "output_type": "execute_result"
    }
   ],
   "source": [
    "%countwords this is a line magic"
   ]
  },
  {
   "cell_type": "code",
   "execution_count": 5,
   "metadata": {},
   "outputs": [
    {
     "data": {
      "text/plain": [
       "5"
      ]
     },
     "execution_count": 5,
     "metadata": {},
     "output_type": "execute_result"
    }
   ],
   "source": [
    "%%countwords\n",
    "this is a magic cell"
   ]
  },
  {
   "cell_type": "markdown",
   "metadata": {},
   "source": [
    "## 1.3 Profile the speed of list comprehension vs. for loops\n",
    "Design some experiments to compare the speed of list comprehension and using a for loop. Practice using %time/%%time magics."
   ]
  },
  {
   "cell_type": "code",
   "execution_count": 6,
   "metadata": {},
   "outputs": [
    {
     "name": "stdout",
     "output_type": "stream",
     "text": [
      "CPU times: user 44.1 ms, sys: 16.4 ms, total: 60.6 ms\n",
      "Wall time: 59.4 ms\n"
     ]
    }
   ],
   "source": [
    "%time li1 = [i for i in range(1000000)]"
   ]
  },
  {
   "cell_type": "code",
   "execution_count": 7,
   "metadata": {},
   "outputs": [
    {
     "name": "stdout",
     "output_type": "stream",
     "text": [
      "CPU times: user 136 ms, sys: 15.8 ms, total: 152 ms\n",
      "Wall time: 151 ms\n"
     ]
    }
   ],
   "source": [
    "%%time\n",
    "li2 = []\n",
    "for i in range(1000000):\n",
    "    li2.append(i)"
   ]
  },
  {
   "cell_type": "markdown",
   "metadata": {},
   "source": [
    "## 1.4 Prime numbers\n",
    "Write a function to return all prime numbers in a list. Can you do this with one line of list comprehension?"
   ]
  },
  {
   "cell_type": "code",
   "execution_count": 17,
   "metadata": {},
   "outputs": [
    {
     "data": {
      "text/plain": [
       "[2, 5, 7, 23, 47]"
      ]
     },
     "execution_count": 17,
     "metadata": {},
     "output_type": "execute_result"
    }
   ],
   "source": [
    "li = [1,2,4,5,6,7,8,9,23,35,46,47,93]\n",
    "li_prime = [i for i in li if i>1 and all(i%x != 0 for x in range(2,i))]\n",
    "li_prime"
   ]
  },
  {
   "cell_type": "markdown",
   "metadata": {},
   "source": [
    "## 1.5 Extend the Vector class\n",
    "• Extend the Vector class example to support any dimension.\n",
    "• Think of operations/methods that would be useful when using the Vector class. Do some\n",
    "research on dunder methods to see how you can implement them in a Pythonic way.\n",
    "• Do not worry about performance."
   ]
  },
  {
   "cell_type": "code",
   "execution_count": 25,
   "metadata": {},
   "outputs": [],
   "source": [
    "class Vector:\n",
    "    \n",
    "    #initialize Vector using a list of elements\n",
    "    def __init__(self, *data):\n",
    "        self.data = data\n",
    "        self.len = len(self.data)\n",
    "    \n",
    "    def __repr__(self):\n",
    "        return f\"Vector{self.data}\"\n",
    "    \n",
    "    def __str__(self):\n",
    "        return f\"{self.data}\"\n",
    "    \n",
    "    #get the item through [] with index or slice\n",
    "    def __getitem__(self, index):\n",
    "        if isinstance(index, int):\n",
    "            return self.data[index]\n",
    "        elif isinstance(index, slice):\n",
    "            return Vector(*self.data[index])\n",
    "        else:\n",
    "            print(\"Index Type Error\")\n",
    "    \n",
    "    #add two Vectors: add each element of them\n",
    "    def __add__(self, other):\n",
    "        if len(self.data) != len(other.data):\n",
    "            print(\"Dimension Error\")\n",
    "        else:\n",
    "            result = [self.data[i] + other.data[i] for i in range(len(self.data))]\n",
    "            return Vector(*result)\n",
    "    \n",
    "    #multiply a Vector by a scalar\n",
    "    def __mul__(self, scalar): \n",
    "        result = [i * scalar for i in self.data]\n",
    "        return Vector(*result)\n",
    "    \n",
    "    #calculate the pow of each element in the Vector\n",
    "    def __pow__(self, exponent): \n",
    "        result = [i ** exponent for i in self.data]\n",
    "        return Vector(*result)\n",
    "    \n",
    "    #get the length of the Vector\n",
    "    def len(self):\n",
    "        return len(self.data)"
   ]
  },
  {
   "cell_type": "code",
   "execution_count": 34,
   "metadata": {
    "scrolled": true
   },
   "outputs": [
    {
     "name": "stdout",
     "output_type": "stream",
     "text": [
      "4\n",
      "(3, 4)\n",
      "(4, 6, 8, 6, 6)\n",
      "5\n",
      "(1, 4, 9, 16, 25)\n"
     ]
    }
   ],
   "source": [
    "v1 = Vector(1,2,3,4,5)\n",
    "v2 = Vector(3,4,5,2,1)\n",
    "\n",
    "print(v1[3])\n",
    "print(v1[2:4])\n",
    "print(v1 + v2)\n",
    "print(len(v1))\n",
    "print(v1**2)"
   ]
  },
  {
   "cell_type": "markdown",
   "metadata": {},
   "source": [
    "## 1.6 Case-insensitive dictionary\n",
    "• Write a CaseInsensitiveDict class that is insensitive to the case of keys. • It’s a good idea to inherit from collections.UserDict.\n",
    "• Use examples to demonstrate how it should be used."
   ]
  },
  {
   "cell_type": "code",
   "execution_count": 45,
   "metadata": {},
   "outputs": [],
   "source": [
    "class CaseInsensitiveDict(dict):\n",
    "    \n",
    "    def __getitem__(self,key):\n",
    "        key_lower = key.lower()\n",
    "        for each_key in self.keys():\n",
    "            if each_key.lower() == key_lower:\n",
    "                return self.get(each_key)\n",
    "    \n",
    "    def __setitem__(self,key,val):\n",
    "        key_lower = key.lower()\n",
    "        for each_key in self.keys():\n",
    "            if each_key.lower() == key_lower:\n",
    "                self.update({each_key:val})\n",
    "                return\n",
    "        self.update({key: val})"
   ]
  },
  {
   "cell_type": "code",
   "execution_count": 46,
   "metadata": {
    "scrolled": true
   },
   "outputs": [
    {
     "name": "stdout",
     "output_type": "stream",
     "text": [
      "3\n",
      "4\n"
     ]
    }
   ],
   "source": [
    "d = CaseInsensitiveDict()\n",
    "\n",
    "d['A'] = 3\n",
    "\n",
    "print(d['a'])\n",
    "\n",
    "d['a'] = 4\n",
    "\n",
    "print(d['a'])\n"
   ]
  }
 ],
 "metadata": {
  "kernelspec": {
   "display_name": "Python 3",
   "language": "python",
   "name": "python3"
  },
  "language_info": {
   "codemirror_mode": {
    "name": "ipython",
    "version": 3
   },
   "file_extension": ".py",
   "mimetype": "text/x-python",
   "name": "python",
   "nbconvert_exporter": "python",
   "pygments_lexer": "ipython3",
   "version": "3.7.7"
  },
  "toc": {
   "base_numbering": 1,
   "nav_menu": {},
   "number_sections": true,
   "sideBar": true,
   "skip_h1_title": false,
   "title_cell": "Table of Contents",
   "title_sidebar": "Contents",
   "toc_cell": false,
   "toc_position": {},
   "toc_section_display": true,
   "toc_window_display": false
  }
 },
 "nbformat": 4,
 "nbformat_minor": 4
}
