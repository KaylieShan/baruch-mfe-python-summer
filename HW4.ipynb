{
 "cells": [
  {
   "cell_type": "markdown",
   "metadata": {},
   "source": [
    "# HW4\n",
    "## Question 1 Exploratory Data Analysis\n"
   ]
  },
  {
   "cell_type": "markdown",
   "metadata": {},
   "source": [
    "From example/input/ load compustat.csv inside compustat.zip without unzip compustat.zip"
   ]
  },
  {
   "cell_type": "code",
   "execution_count": 22,
   "metadata": {},
   "outputs": [],
   "source": [
    "import pandas as pd\n",
    "from zipfile import ZipFile"
   ]
  },
  {
   "cell_type": "code",
   "execution_count": 23,
   "metadata": {
    "scrolled": true
   },
   "outputs": [],
   "source": [
    "myzip=ZipFile('compustat.zip')\n",
    "f=myzip.open('compustat.csv')\n",
    "df=pd.read_csv(f)"
   ]
  },
  {
   "cell_type": "markdown",
   "metadata": {},
   "source": [
    "### Variable names that we are interested in:\n",
    "\n",
    "sic code: four digits integer for company\n",
    "datecqtr: year/ quarter time for the record\n",
    "cusip: compustats identifier for a company\n",
    "chod: shares out of standing (in million)\n",
    "saleq: sales of current quarter (in million)\n",
    "prccq: close price of current quarter (in dollar)"
   ]
  },
  {
   "cell_type": "code",
   "execution_count": 24,
   "metadata": {},
   "outputs": [],
   "source": [
    "df = df.loc[:,['sic','datacqtr','cusip','cshoq','saleq','prccq']]"
   ]
  },
  {
   "cell_type": "markdown",
   "metadata": {},
   "source": [
    "### For saleq and market cap, compute the following:\n",
    "\n",
    "Time series mean;\n",
    "Time Series standard deviation;\n",
    "Time Series count of missing values;\n",
    "Time Series ratio of missing values;\n",
    "Aggregate the result in a dataframe;"
   ]
  },
  {
   "cell_type": "code",
   "execution_count": 25,
   "metadata": {},
   "outputs": [],
   "source": [
    "#compute market cap\n",
    "df['mktcap'] = df['cshoq'] * df['prccq'] "
   ]
  },
  {
   "cell_type": "code",
   "execution_count": 26,
   "metadata": {},
   "outputs": [
    {
     "data": {
      "text/plain": [
       "445.1506638794169"
      ]
     },
     "execution_count": 26,
     "metadata": {},
     "output_type": "execute_result"
    }
   ],
   "source": [
    "#Time series mean\n",
    "df['saleq'].mean()"
   ]
  },
  {
   "cell_type": "code",
   "execution_count": 27,
   "metadata": {},
   "outputs": [
    {
     "data": {
      "text/plain": [
       "2679.706576405277"
      ]
     },
     "execution_count": 27,
     "metadata": {},
     "output_type": "execute_result"
    }
   ],
   "source": [
    "#Time Series standard deviation\n",
    "df['saleq'].std()"
   ]
  },
  {
   "cell_type": "code",
   "execution_count": 28,
   "metadata": {},
   "outputs": [
    {
     "data": {
      "text/plain": [
       "269498"
      ]
     },
     "execution_count": 28,
     "metadata": {},
     "output_type": "execute_result"
    }
   ],
   "source": [
    "#Time Series count of missing values\n",
    "df['saleq'].isnull().sum()"
   ]
  },
  {
   "cell_type": "code",
   "execution_count": 29,
   "metadata": {},
   "outputs": [
    {
     "data": {
      "text/plain": [
       "0.14878714116222666"
      ]
     },
     "execution_count": 29,
     "metadata": {},
     "output_type": "execute_result"
    }
   ],
   "source": [
    "#Time Series ratio of missing values\n",
    "df['saleq'].isnull().sum()/len(df)"
   ]
  },
  {
   "cell_type": "code",
   "execution_count": 13,
   "metadata": {},
   "outputs": [
    {
     "name": "stdout",
     "output_type": "stream",
     "text": [
      "         mean          std  count_miss  ratio_miss\n",
      "0  445.150664  2679.706576      269498    0.148787\n"
     ]
    }
   ],
   "source": [
    "#Aggregate the result in a dataframe\n",
    "result = pd.DataFrame()\n",
    "result['mean'] = [df['saleq'].mean()]\n",
    "result['std'] = [df['saleq'].std()]\n",
    "result['count_miss'] = df['saleq'].isnull().sum()\n",
    "result['ratio_miss'] = df['saleq'].isnull().sum()/len(df)\n",
    "print(result)"
   ]
  },
  {
   "cell_type": "markdown",
   "metadata": {},
   "source": [
    "### Answer the following questions:\n",
    "\n",
    "Before computing any value, what kinds of descriptive analysis would you do to check if there are outliers?"
   ]
  },
  {
   "cell_type": "code",
   "execution_count": 15,
   "metadata": {},
   "outputs": [
    {
     "data": {
      "text/plain": [
       "<matplotlib.axes._subplots.AxesSubplot at 0x11ff31588>"
      ]
     },
     "execution_count": 15,
     "metadata": {},
     "output_type": "execute_result"
    },
    {
     "data": {
      "image/png": "[encoded data removed]",
      "text/plain": [
       "<Figure size 432x288 with 1 Axes>"
      ]
     },
     "metadata": {
      "needs_background": "light"
     },
     "output_type": "display_data"
    }
   ],
   "source": [
    "#Distriubtion-Plot\n",
    "sns.distplot(df['saleq'].dropna().values)"
   ]
  },
  {
   "cell_type": "code",
   "execution_count": 27,
   "metadata": {},
   "outputs": [
    {
     "name": "stdout",
     "output_type": "stream",
     "text": [
      "        mean        std  count_miss  ratio_miss\n",
      "0  44.668567  68.204818      504108    0.278313\n"
     ]
    }
   ],
   "source": [
    "#use IQR score to deal with outliers\n",
    "#25% quantile\n",
    "Q1 = df['saleq'].quantile(0.25)\n",
    "#75% quantile\n",
    "Q3 = df['saleq'].quantile(0.75)\n",
    "#IQR\n",
    "IQR = Q3 - Q1\n",
    "#create a new saleq column that got rid of outliers\n",
    "df['saleq_new'] = df['saleq'][(df['saleq'] > (Q1 - 1.5 * IQR)) & (df['saleq'] < (Q3 + 1.5 * IQR))]\n",
    "#compute the mean\\std\\missing value of the new column\n",
    "result_new = pd.DataFrame()\n",
    "result_new['mean'] = [df['saleq_new'].mean()]\n",
    "result_new['std'] = [df['saleq_new'].std()]\n",
    "result_new['count_miss'] = df['saleq_new'].isnull().sum()\n",
    "result_new['ratio_miss'] = df['saleq_new'].isnull().sum()/len(df)\n",
    "print(result_new)"
   ]
  },
  {
   "cell_type": "markdown",
   "metadata": {},
   "source": [
    "## Question 2 Compute Industry Concentration\n",
    "\n",
    "The defination of HHI index could be found:\n",
    "https://www.investopedia.com/terms/h/hhi.asp#:~:text=The%20Herfindahl%2DHirschman%20Index%20(HHI)%20is%20a%20commonly%20accepted,close%20to%20zero%20to%2010%2C000.\n",
    "This index is used to measure the industry concentration and was used by congressman to determine whether to approve a merge deal or not.\n",
    "Using the same data in question 1. Compute a panel data for HHI index for all industry, using a 2 digit SIC code.\n",
    "Choose top 4 industry with the highest average HHI index, plot their time series pattern of HHI in a 2 by 2 figure."
   ]
  },
  {
   "cell_type": "code",
   "execution_count": 84,
   "metadata": {},
   "outputs": [],
   "source": [
    "#transform SIC to a 2 digit code\n",
    "df.dropna(inplace=True)\n",
    "df['sic_2digit'] = (df['sic']//100).astype('int')"
   ]
  },
  {
   "cell_type": "code",
   "execution_count": 85,
   "metadata": {},
   "outputs": [],
   "source": [
    "#use pivot table to compute the saleq_sum(quarterly sum of sales in a certain industry) of a industry in a quarter\n",
    "saleq_sum = pd.pivot_table(df, index=['sic_2digit','datacqtr'],values=['saleq'],aggfunc='sum')\n",
    "#set the index to ['sic_2digit','datacqtr']\n",
    "df_new = df.set_index(['sic_2digit','datacqtr'])\n",
    "df_new['saleq_sum'] = saleq_sum"
   ]
  },
  {
   "cell_type": "code",
   "execution_count": 86,
   "metadata": {},
   "outputs": [],
   "source": [
    "#compute the percentage of share of a company in a quarter\n",
    "df_new['share'] = df_new['saleq']*100/df_new['saleq_sum']\n",
    "#compute the square of share\n",
    "df_new['share_square'] = df_new['share']**2"
   ]
  },
  {
   "cell_type": "code",
   "execution_count": 108,
   "metadata": {},
   "outputs": [
    {
     "name": "stdout",
     "output_type": "stream",
     "text": [
      "                             HHI\n",
      "sic_2digit datacqtr             \n",
      "1          1968Q4    5400.087472\n",
      "           1969Q3    5104.971184\n",
      "           1969Q4    5499.740746\n",
      "           1970Q1    4060.728397\n",
      "           1970Q2    5718.446132\n"
     ]
    }
   ],
   "source": [
    "#compute the HHI of each industry in each quarter\n",
    "HHI = pd.pivot_table(df_new,index=['sic_2digit','datacqtr'],values=['share_square'],aggfunc='sum')\n",
    "HHI.columns = ['HHI']\n",
    "#remove the items where HHI == 10000 \n",
    "HHI = HHI[HHI['HHI']<9999]\n",
    "print(HHI.head())"
   ]
  },
  {
   "cell_type": "code",
   "execution_count": 109,
   "metadata": {},
   "outputs": [
    {
     "name": "stdout",
     "output_type": "stream",
     "text": [
      "                    HHI\n",
      "sic_2digit             \n",
      "84          8966.251168\n",
      "81          8940.775614\n",
      "9           7439.484810\n",
      "2           7351.215863\n"
     ]
    }
   ],
   "source": [
    "#compute average HHI of each industry\n",
    "avg_HHI = pd.pivot_table(HHI,index=['sic_2digit'],values=['HHI'])\n",
    "#sort\n",
    "avg_HHI = avg_HHI.sort_values(ascending=False,by='HHI')\n",
    "print(avg_HHI.head(4))"
   ]
  },
  {
   "cell_type": "code",
   "execution_count": 139,
   "metadata": {},
   "outputs": [
    {
     "name": "stdout",
     "output_type": "stream",
     "text": [
      "[84 81  9  2]\n"
     ]
    }
   ],
   "source": [
    "#the four industries selected\n",
    "ind = avg_HHI.index.values[0:4]\n",
    "print(ind)\n",
    "HHI_top4 = HHI.loc[ind]\n",
    "HHI_top4.reset_index(inplace=True)"
   ]
  },
  {
   "cell_type": "code",
   "execution_count": 140,
   "metadata": {},
   "outputs": [
    {
     "data": {
      "text/plain": [
       "<seaborn.axisgrid.FacetGrid at 0x131067f28>"
      ]
     },
     "execution_count": 140,
     "metadata": {},
     "output_type": "execute_result"
    },
    {
     "data": {
      "image/png": "[encoded data removed]",
      "text/plain": [
       "<Figure size 576x576 with 4 Axes>"
      ]
     },
     "metadata": {
      "needs_background": "light"
     },
     "output_type": "display_data"
    }
   ],
   "source": [
    "g = sns.FacetGrid(HHI_top4, col = 'sic_2digit', col_wrap =2, height=4) \n",
    "g.map(plt.plot,'datacqtr','HHI')"
   ]
  }
 ],
 "metadata": {
  "kernelspec": {
   "display_name": "Python 3",
   "language": "python",
   "name": "python3"
  },
  "language_info": {
   "codemirror_mode": {
    "name": "ipython",
    "version": 3
   },
   "file_extension": ".py",
   "mimetype": "text/x-python",
   "name": "python",
   "nbconvert_exporter": "python",
   "pygments_lexer": "ipython3",
   "version": "3.7.3"
  },
  "toc": {
   "base_numbering": 1,
   "nav_menu": {},
   "number_sections": true,
   "sideBar": true,
   "skip_h1_title": false,
   "title_cell": "Table of Contents",
   "title_sidebar": "Contents",
   "toc_cell": false,
   "toc_position": {},
   "toc_section_display": true,
   "toc_window_display": false
  }
 },
 "nbformat": 4,
 "nbformat_minor": 4
}
