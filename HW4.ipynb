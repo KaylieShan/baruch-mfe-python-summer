{
 "cells": [
  {
   "cell_type": "markdown",
   "metadata": {},
   "source": [
    "# HW4\n",
    "## Question 1 Exploratory Data Analysis\n"
   ]
  },
  {
   "cell_type": "markdown",
   "metadata": {},
   "source": [
    "### From example/input/ load compustat.csv inside compustat.zip without unzip compustat.zip"
   ]
  },
  {
   "cell_type": "code",
   "execution_count": 2,
   "metadata": {},
   "outputs": [],
   "source": [
    "import pandas as pd\n",
    "from zipfile import ZipFile"
   ]
  },
  {
   "cell_type": "code",
   "execution_count": 85,
   "metadata": {
    "scrolled": true
   },
   "outputs": [],
   "source": [
    "myzip=ZipFile('compustat.zip')\n",
    "f=myzip.open('compustat.csv')\n",
    "df=pd.read_csv(f)"
   ]
  },
  {
   "cell_type": "markdown",
   "metadata": {},
   "source": [
    "### Compute the following:"
   ]
  },
  {
   "cell_type": "code",
   "execution_count": 6,
   "metadata": {},
   "outputs": [
    {
     "data": {
      "text/plain": [
       "445.1506638794169"
      ]
     },
     "execution_count": 6,
     "metadata": {},
     "output_type": "execute_result"
    }
   ],
   "source": [
    "#Time series mean\n",
    "df['saleq'].mean()"
   ]
  },
  {
   "cell_type": "code",
   "execution_count": 7,
   "metadata": {},
   "outputs": [
    {
     "data": {
      "text/plain": [
       "2679.706576405277"
      ]
     },
     "execution_count": 7,
     "metadata": {},
     "output_type": "execute_result"
    }
   ],
   "source": [
    "#Time Series standard deviation\n",
    "df['saleq'].std()"
   ]
  },
  {
   "cell_type": "code",
   "execution_count": 8,
   "metadata": {},
   "outputs": [
    {
     "data": {
      "text/plain": [
       "269498"
      ]
     },
     "execution_count": 8,
     "metadata": {},
     "output_type": "execute_result"
    }
   ],
   "source": [
    "#Time Series count of missing values\n",
    "df['saleq'].isnull().sum()"
   ]
  },
  {
   "cell_type": "code",
   "execution_count": 9,
   "metadata": {},
   "outputs": [
    {
     "data": {
      "text/plain": [
       "0.14878714116222666"
      ]
     },
     "execution_count": 9,
     "metadata": {},
     "output_type": "execute_result"
    }
   ],
   "source": [
    "#Time Series ratio of missing values\n",
    "df['saleq'].isnull().sum()/len(df)"
   ]
  },
  {
   "cell_type": "code",
   "execution_count": 22,
   "metadata": {},
   "outputs": [
    {
     "name": "stdout",
     "output_type": "stream",
     "text": [
      "         mean          std  count_miss  ratio_miss\n",
      "0  445.150664  2679.706576      269498    0.148787\n"
     ]
    }
   ],
   "source": [
    "#Aggregate the result in a dataframe\n",
    "result = pd.DataFrame()\n",
    "result['mean'] = [df['saleq'].mean()]\n",
    "result['std'] = [df['saleq'].std()]\n",
    "result['count_miss'] = df['saleq'].isnull().sum()\n",
    "result['ratio_miss'] = df['saleq'].isnull().sum()/len(df)\n",
    "print(result)"
   ]
  },
  {
   "cell_type": "markdown",
   "metadata": {},
   "source": [
    "### Answer the following questions:\n",
    "\n",
    "Before computing any value, what kinds of descriptive analysis would you do to check if there are outliers?"
   ]
  },
  {
   "cell_type": "code",
   "execution_count": 45,
   "metadata": {
    "scrolled": true
   },
   "outputs": [
    {
     "data": {
      "text/plain": [
       "<matplotlib.axes._subplots.AxesSubplot at 0x113a307f0>"
      ]
     },
     "execution_count": 45,
     "metadata": {},
     "output_type": "execute_result"
    },
    {
     "data": {
      "image/png": "[encoded data removed]",
      "text/plain": [
       "<Figure size 432x288 with 1 Axes>"
      ]
     },
     "metadata": {
      "needs_background": "light"
     },
     "output_type": "display_data"
    }
   ],
   "source": [
    "#Box-Plot\n",
    "import seaborn as sns\n",
    "sns.boxplot(x=df['saleq'])"
   ]
  },
  {
   "cell_type": "code",
   "execution_count": 47,
   "metadata": {},
   "outputs": [
    {
     "data": {
      "text/plain": [
       "<matplotlib.axes._subplots.AxesSubplot at 0x118fbce48>"
      ]
     },
     "execution_count": 47,
     "metadata": {},
     "output_type": "execute_result"
    },
    {
     "data": {
      "image/png": "[encoded data removed]",
      "text/plain": [
       "<Figure size 432x288 with 1 Axes>"
      ]
     },
     "metadata": {
      "needs_background": "light"
     },
     "output_type": "display_data"
    }
   ],
   "source": [
    "#Distriubtion-Plot\n",
    "sns.distplot(df['saleq'].dropna().values)"
   ]
  },
  {
   "cell_type": "code",
   "execution_count": 27,
   "metadata": {},
   "outputs": [
    {
     "name": "stdout",
     "output_type": "stream",
     "text": [
      "        mean        std  count_miss  ratio_miss\n",
      "0  44.668567  68.204818      504108    0.278313\n"
     ]
    }
   ],
   "source": [
    "#use IQR score to deal with outliers\n",
    "#25% quantile\n",
    "Q1 = df['saleq'].quantile(0.25)\n",
    "#75% quantile\n",
    "Q3 = df['saleq'].quantile(0.75)\n",
    "#IQR\n",
    "IQR = Q3 - Q1\n",
    "#create a new saleq column that got rid of outliers\n",
    "df['saleq_new'] = df['saleq'][(df['saleq'] > (Q1 - 1.5 * IQR)) & (df['saleq'] < (Q3 + 1.5 * IQR))]\n",
    "#compute the mean\\std\\missing value of the new column\n",
    "result_new = pd.DataFrame()\n",
    "result_new['mean'] = [df['saleq_new'].mean()]\n",
    "result_new['std'] = [df['saleq_new'].std()]\n",
    "result_new['count_miss'] = df['saleq_new'].isnull().sum()\n",
    "result_new['ratio_miss'] = df['saleq_new'].isnull().sum()/len(df)\n",
    "print(result_new)"
   ]
  },
  {
   "cell_type": "markdown",
   "metadata": {},
   "source": [
    "## Question 2 Compute Industry Concentration\n",
    "\n",
    "The defination of HHI index could be found:\n",
    "https://www.investopedia.com/terms/h/hhi.asp#:~:text=The%20Herfindahl%2DHirschman%20Index%20(HHI)%20is%20a%20commonly%20accepted,close%20to%20zero%20to%2010%2C000.\n",
    "This index is used to measure the industry concentration and was used by congressman to determine whether to approve a merge deal or not.\n",
    "Using the same data in question 1. Compute a panel data for HHI index for all industry, using a 2 digit SIC code.\n",
    "Choose top 4 industry with the highest average HHI index, plot their time series pattern of HHI in a 2 by 2 figure."
   ]
  },
  {
   "cell_type": "code",
   "execution_count": 83,
   "metadata": {},
   "outputs": [],
   "source": [
    "#use pivot table to compute the saleq_sum(quarterly sum of sales in a certain industry) of a industry in a quarter\n",
    "saleq_sum = pd.pivot_table(df, index=['sic','datacqtr'],values=['saleq'],aggfunc=np.sum)\n",
    "#set the index to ['sic','datacqtr']\n",
    "df_new = df.set_index(['sic','datacqtr'])\n",
    "df_new['saleq_sum'] = saleq_sum"
   ]
  },
  {
   "cell_type": "code",
   "execution_count": 84,
   "metadata": {},
   "outputs": [],
   "source": [
    "#compute the percentage of share of a company in a quarter\n",
    "df_new['share'] = df_new['saleq']*100/df_new['saleq_sum']\n",
    "#compute the square of share\n",
    "df_new['share_square'] = df_new['share']**2"
   ]
  },
  {
   "cell_type": "code",
   "execution_count": 82,
   "metadata": {},
   "outputs": [
    {
     "name": "stdout",
     "output_type": "stream",
     "text": [
      "                 share_square\n",
      "sic    datacqtr              \n",
      "100.0  1962Q1        0.000000\n",
      "       1962Q2        0.000000\n",
      "       1962Q3        0.000000\n",
      "       1962Q4    10000.000000\n",
      "       1963Q1        0.000000\n",
      "       1963Q2        0.000000\n",
      "       1963Q3        0.000000\n",
      "       1963Q4    10000.000000\n",
      "       1964Q1        0.000000\n",
      "       1964Q2    10000.000000\n",
      "       1964Q3    10000.000000\n",
      "       1964Q4    10000.000000\n",
      "       1965Q1        0.000000\n",
      "       1965Q2    10000.000000\n",
      "       1965Q3    10000.000000\n",
      "       1965Q4    10000.000000\n",
      "       1966Q1    10000.000000\n",
      "       1966Q2    10000.000000\n",
      "       1966Q3     3911.862372\n",
      "       1966Q4     4998.666258\n",
      "       1967Q1     5070.460686\n",
      "       1967Q2     5370.794802\n",
      "       1967Q3     3904.164335\n",
      "       1967Q4     4897.066698\n",
      "       1968Q1     3760.782785\n",
      "       1968Q2     4179.716916\n",
      "       1968Q3     3296.352767\n",
      "       1968Q4     4825.081344\n",
      "       1969Q1     4739.726199\n",
      "       1969Q2     5412.210099\n",
      "...                       ...\n",
      "9998.0 2004Q3        0.000000\n",
      "       2004Q4        0.000000\n",
      "       2005Q1        0.000000\n",
      "       2005Q2        0.000000\n",
      "       2005Q3        0.000000\n",
      "       2005Q4        0.000000\n",
      "       2006Q1        0.000000\n",
      "       2006Q2        0.000000\n",
      "       2006Q3        0.000000\n",
      "       2006Q4        0.000000\n",
      "       2007Q1        0.000000\n",
      "       2007Q2        0.000000\n",
      "       2007Q3        0.000000\n",
      "       2007Q4        0.000000\n",
      "       2008Q1        0.000000\n",
      "       2008Q2        0.000000\n",
      "       2008Q3        0.000000\n",
      "       2008Q4        0.000000\n",
      "       2009Q1        0.000000\n",
      "       2009Q2        0.000000\n",
      "       2009Q3        0.000000\n",
      "       2009Q4        0.000000\n",
      "       2010Q1        0.000000\n",
      "       2010Q2        0.000000\n",
      "       2010Q3        0.000000\n",
      "       2010Q4        0.000000\n",
      "       2011Q1        0.000000\n",
      "       2011Q2        0.000000\n",
      "       2011Q3        0.000000\n",
      "       2011Q4        0.000000\n",
      "\n",
      "[93422 rows x 1 columns]\n"
     ]
    }
   ],
   "source": [
    "#compute the HHI of each industry in each quarter\n",
    "HHI = pd.pivot_table(df_new,index=['sic','datacqtr'],values=['share_square'],aggfunc=np.sum)\n",
    "print(HHI)"
   ]
  }
 ],
 "metadata": {
  "kernelspec": {
   "display_name": "Python 3",
   "language": "python",
   "name": "python3"
  },
  "language_info": {
   "codemirror_mode": {
    "name": "ipython",
    "version": 3
   },
   "file_extension": ".py",
   "mimetype": "text/x-python",
   "name": "python",
   "nbconvert_exporter": "python",
   "pygments_lexer": "ipython3",
   "version": "3.7.3"
  },
  "toc": {
   "base_numbering": 1,
   "nav_menu": {},
   "number_sections": true,
   "sideBar": true,
   "skip_h1_title": false,
   "title_cell": "Table of Contents",
   "title_sidebar": "Contents",
   "toc_cell": false,
   "toc_position": {},
   "toc_section_display": true,
   "toc_window_display": false
  }
 },
 "nbformat": 4,
 "nbformat_minor": 4
}
