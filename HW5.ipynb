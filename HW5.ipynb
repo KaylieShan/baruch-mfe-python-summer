{
 "cells": [
  {
   "cell_type": "markdown",
   "metadata": {},
   "source": [
    "# HW 5\n",
    "\n",
    "## Question 1 Algorithmic questions\n",
    "Find the kth largest element in an unsorted array. Note that it is the kth largest element in the sorted order, not the kth distinct element.\n",
    "\n",
    "Examples:\n",
    "Input: [3,2,1,5,6,4] and k = 2\n",
    "\n",
    "Output: 5\n",
    "\n",
    "Input: [3,2,3,1,2,4,5,5,6] and k = 4\n",
    "Output: 4\n",
    "You may assume k is always valid, 1 ≤ k ≤ array's length."
   ]
  },
  {
   "cell_type": "code",
   "execution_count": 22,
   "metadata": {},
   "outputs": [],
   "source": [
    "import heapq"
   ]
  },
  {
   "cell_type": "code",
   "execution_count": 34,
   "metadata": {},
   "outputs": [],
   "source": [
    "#find the kth largest in the arr\n",
    "def kth_largest(arr,k):\n",
    "    if k > len(arr):\n",
    "        return 'index overflow error'\n",
    "    \n",
    "    heapq.heapify(arr) #O(n)\n",
    "    for i in range(len(arr)-k): #O(n)\n",
    "        heapq.heappop(arr) \n",
    "    return arr[0]"
   ]
  },
  {
   "cell_type": "markdown",
   "metadata": {},
   "source": [
    "Develop several test cases and explain why you choose these test cases."
   ]
  },
  {
   "cell_type": "code",
   "execution_count": 35,
   "metadata": {},
   "outputs": [
    {
     "name": "stdout",
     "output_type": "stream",
     "text": [
      "test (1): index overflow error\n",
      "test (2): 5\n",
      "test (2): 4\n"
     ]
    }
   ],
   "source": [
    "#tests\n",
    "\n",
    "print('test (1):',kth_largest([],3))\n",
    "print('test (2):',kth_largest([5,7,4,3,8,2],3)) #test without duplicate values\n",
    "print('test (2):',kth_largest([3,3,5,5,4,4],3)) #test with duplicate values"
   ]
  },
  {
   "cell_type": "markdown",
   "metadata": {},
   "source": [
    "Analyze the time complexity of your algorithm."
   ]
  },
  {
   "cell_type": "code",
   "execution_count": 36,
   "metadata": {},
   "outputs": [],
   "source": [
    "#O(n)"
   ]
  },
  {
   "cell_type": "markdown",
   "metadata": {},
   "source": [
    "## Question 2 Multithreading pop\n",
    "Using python data structure Queue, generate a queue that have 10000 elments. Then use 1, 5, 20 threads to pop out the elments out. Compare the efficiency when you use different number of threads and explain why you see the pattern of performance."
   ]
  },
  {
   "cell_type": "code",
   "execution_count": 112,
   "metadata": {},
   "outputs": [],
   "source": [
    "import collections\n",
    "import threading\n",
    "\n",
    "# function to pop all the elements in the queue\n",
    "def pop_func(thread_num, q):\n",
    "    while True:\n",
    "        try:\n",
    "            popped = q.pop()\n",
    "            #print(\"thread {} popping {}\".format(thread_num, popped))\n",
    "        except IndexError:\n",
    "            #print(\"thread {} ends\".format(thread_num))\n",
    "            break\n",
    "    return\n",
    "\n",
    "# function to manage multiple threads\n",
    "def mul_thread_pop(q,n):\n",
    "    #create n threads\n",
    "    threads = [threading.Thread(target=pop_func, args=(i, q)) for i in range(1,n+1)]\n",
    "    for each in threads:\n",
    "        each.start()\n",
    "    for each in threads:\n",
    "        each.join()"
   ]
  },
  {
   "cell_type": "code",
   "execution_count": 113,
   "metadata": {},
   "outputs": [
    {
     "name": "stdout",
     "output_type": "stream",
     "text": [
      "CPU times: user 1.06 ms, sys: 235 µs, total: 1.3 ms\n",
      "Wall time: 1.18 ms\n"
     ]
    }
   ],
   "source": [
    "#test 1 thread\n",
    "q = collections.deque(range(10000))\n",
    "%time mul_thread_pop(q,1)"
   ]
  },
  {
   "cell_type": "code",
   "execution_count": 114,
   "metadata": {},
   "outputs": [
    {
     "name": "stdout",
     "output_type": "stream",
     "text": [
      "CPU times: user 1.77 ms, sys: 1.13 ms, total: 2.9 ms\n",
      "Wall time: 2.07 ms\n"
     ]
    }
   ],
   "source": [
    "#test 5 threads\n",
    "q = collections.deque(range(10000))\n",
    "%time mul_thread_pop(q,5)"
   ]
  },
  {
   "cell_type": "code",
   "execution_count": 115,
   "metadata": {},
   "outputs": [
    {
     "name": "stdout",
     "output_type": "stream",
     "text": [
      "CPU times: user 2.97 ms, sys: 2.74 ms, total: 5.71 ms\n",
      "Wall time: 3.89 ms\n"
     ]
    }
   ],
   "source": [
    "#test 20 threads\n",
    "q = collections.deque(range(10000))\n",
    "%time mul_thread_pop(q,20)"
   ]
  },
  {
   "cell_type": "markdown",
   "metadata": {},
   "source": [
    "As the number of threads increases, the time cost increases. \n",
    "This is because all the threads cannot run at the same time."
   ]
  }
 ],
 "metadata": {
  "kernelspec": {
   "display_name": "Python 3",
   "language": "python",
   "name": "python3"
  },
  "language_info": {
   "codemirror_mode": {
    "name": "ipython",
    "version": 3
   },
   "file_extension": ".py",
   "mimetype": "text/x-python",
   "name": "python",
   "nbconvert_exporter": "python",
   "pygments_lexer": "ipython3",
   "version": "3.7.3"
  },
  "toc": {
   "base_numbering": 1,
   "nav_menu": {},
   "number_sections": true,
   "sideBar": true,
   "skip_h1_title": false,
   "title_cell": "Table of Contents",
   "title_sidebar": "Contents",
   "toc_cell": false,
   "toc_position": {},
   "toc_section_display": true,
   "toc_window_display": false
  }
 },
 "nbformat": 4,
 "nbformat_minor": 2
}
